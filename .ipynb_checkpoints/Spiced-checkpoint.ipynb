{
 "cells": [
  {
   "cell_type": "code",
   "execution_count": 5,
   "metadata": {},
   "outputs": [],
   "source": [
    "import pandas as pd"
   ]
  },
  {
   "cell_type": "code",
   "execution_count": 101,
   "metadata": {},
   "outputs": [],
   "source": [
    "import matplotlib.pyplot as plt"
   ]
  },
  {
   "cell_type": "code",
   "execution_count": 6,
   "metadata": {},
   "outputs": [
    {
     "data": {
      "text/plain": [
       "<module 'pandas' from '/opt/conda/lib/python3.7/site-packages/pandas/__init__.py'>"
      ]
     },
     "execution_count": 6,
     "metadata": {},
     "output_type": "execute_result"
    }
   ],
   "source": [
    "pd"
   ]
  },
  {
   "cell_type": "code",
   "execution_count": 10,
   "metadata": {},
   "outputs": [],
   "source": [
    "d = {\n",
    "    'x':[2.6, 3.7, 2.3, 6.1, 7.3, 5.0, 9.2, 7.0, 2.3, 6.2, 1.5, 3.4, 0.4, 6.1, 5.4, 5.3, 1.6, 4.0, 7.1, 8.2],\n",
    "    'y':[4.6, 4.8, 4.3, 4.6, 2.1, 5.3, 4.7, 3.4, 5.8, 5.2, 5.5, 2.1, 4.2, 7.8, 6.2, 5.6, 2.9, 7.3, 2.9, 3.2],\n",
    "    'Colors':['Blue' , 'Red', 'Red', 'Blue', 'Red' , 'Red' , 'Blue' , 'Blue' , 'Blue' , 'Red' , 'Red' , 'Red' , 'Blue' , 'Red' , 'Blue' , 'Blue' , 'Blue', 'Red' , 'Red' , 'Blue']}"
   ]
  },
  {
   "cell_type": "code",
   "execution_count": 11,
   "metadata": {},
   "outputs": [],
   "source": [
    "df = pd.DataFrame(d)"
   ]
  },
  {
   "cell_type": "code",
   "execution_count": 12,
   "metadata": {},
   "outputs": [
    {
     "name": "stdout",
     "output_type": "stream",
     "text": [
      "      x    y Colors\n",
      "0   2.6  4.6   Blue\n",
      "1   3.7  4.8    Red\n",
      "2   2.3  4.3    Red\n",
      "3   6.1  4.6   Blue\n",
      "4   7.3  2.1    Red\n",
      "5   5.0  5.3    Red\n",
      "6   9.2  4.7   Blue\n",
      "7   7.0  3.4   Blue\n",
      "8   2.3  5.8   Blue\n",
      "9   6.2  5.2    Red\n",
      "10  1.5  5.5    Red\n",
      "11  3.4  2.1    Red\n",
      "12  0.4  4.2   Blue\n",
      "13  6.1  7.8    Red\n",
      "14  5.4  6.2   Blue\n",
      "15  5.3  5.6   Blue\n",
      "16  1.6  2.9   Blue\n",
      "17  4.0  7.3    Red\n",
      "18  7.1  2.9    Red\n",
      "19  8.2  3.2   Blue\n"
     ]
    }
   ],
   "source": [
    "print(df)"
   ]
  },
  {
   "cell_type": "code",
   "execution_count": 100,
   "metadata": {},
   "outputs": [
    {
     "data": {
      "text/plain": [
       "<matplotlib.axes._subplots.AxesSubplot at 0x7f06cfc07550>"
      ]
     },
     "execution_count": 100,
     "metadata": {},
     "output_type": "execute_result"
    },
    {
     "data": {
      "image/png": "[encoded data removed]",
      "text/plain": [
       "<Figure size 432x288 with 1 Axes>"
      ]
     },
     "metadata": {
      "needs_background": "light"
     },
     "output_type": "display_data"
    }
   ],
   "source": [
    "df.plot(kind='scatter',x='x',y='y', color=df['Colors'])"
   ]
  },
  {
   "cell_type": "code",
   "execution_count": null,
   "metadata": {},
   "outputs": [],
   "source": [
    "# Task 1: "
   ]
  },
  {
   "cell_type": "code",
   "execution_count": 13,
   "metadata": {},
   "outputs": [
    {
     "data": {
      "text/plain": [
       "x    4.735\n",
       "y    4.625\n",
       "dtype: float64"
      ]
     },
     "execution_count": 13,
     "metadata": {},
     "output_type": "execute_result"
    }
   ],
   "source": [
    "df.mean()"
   ]
  },
  {
   "cell_type": "code",
   "execution_count": 19,
   "metadata": {},
   "outputs": [],
   "source": [
    "#Task 2"
   ]
  },
  {
   "cell_type": "code",
   "execution_count": 25,
   "metadata": {},
   "outputs": [],
   "source": [
    "blue_center = df[df['Colors']=='Blue'].mean()"
   ]
  },
  {
   "cell_type": "code",
   "execution_count": 26,
   "metadata": {},
   "outputs": [
    {
     "name": "stdout",
     "output_type": "stream",
     "text": [
      "x    4.81\n",
      "y    4.52\n",
      "dtype: float64\n"
     ]
    }
   ],
   "source": [
    "print(blue_center)"
   ]
  },
  {
   "cell_type": "code",
   "execution_count": 27,
   "metadata": {},
   "outputs": [],
   "source": [
    "red_center = df[df['Colors']=='Red'].mean()"
   ]
  },
  {
   "cell_type": "code",
   "execution_count": 28,
   "metadata": {},
   "outputs": [
    {
     "name": "stdout",
     "output_type": "stream",
     "text": [
      "x    4.66\n",
      "y    4.73\n",
      "dtype: float64\n"
     ]
    }
   ],
   "source": [
    "print(red_center)"
   ]
  },
  {
   "cell_type": "code",
   "execution_count": 60,
   "metadata": {},
   "outputs": [],
   "source": [
    "#Task 3"
   ]
  },
  {
   "cell_type": "code",
   "execution_count": 61,
   "metadata": {},
   "outputs": [],
   "source": [
    "import numpy as np"
   ]
  },
  {
   "cell_type": "code",
   "execution_count": 62,
   "metadata": {},
   "outputs": [],
   "source": [
    "bluecenter = [4.81, 4.52]"
   ]
  },
  {
   "cell_type": "code",
   "execution_count": 63,
   "metadata": {},
   "outputs": [],
   "source": [
    "df['distance'] = df[['x', 'y']].sub(np.array(blue_center)).pow(2).sum(1).pow(0.5)"
   ]
  },
  {
   "cell_type": "code",
   "execution_count": 64,
   "metadata": {},
   "outputs": [
    {
     "name": "stdout",
     "output_type": "stream",
     "text": [
      "      x    y Colors  distance\n",
      "0   2.6  4.6   Blue  2.211447\n",
      "1   3.7  4.8    Red  1.144771\n",
      "2   2.3  4.3    Red  2.519623\n",
      "3   6.1  4.6   Blue  1.292478\n",
      "4   7.3  2.1    Red  3.472247\n",
      "5   5.0  5.3    Red  0.802808\n",
      "6   9.2  4.7   Blue  4.393689\n",
      "7   7.0  3.4   Blue  2.459776\n",
      "8   2.3  5.8   Blue  2.817534\n",
      "9   6.2  5.2    Red  1.547417\n",
      "10  1.5  5.5    Red  3.452028\n",
      "11  3.4  2.1    Red  2.800803\n",
      "12  0.4  4.2   Blue  4.421595\n",
      "13  6.1  7.8    Red  3.524557\n",
      "14  5.4  6.2   Blue  1.780590\n",
      "15  5.3  5.6   Blue  1.185960\n",
      "16  1.6  2.9   Blue  3.595622\n",
      "17  4.0  7.3    Red  2.895600\n",
      "18  7.1  2.9    Red  2.805085\n",
      "19  8.2  3.2   Blue  3.637925\n"
     ]
    }
   ],
   "source": [
    "print(df)"
   ]
  },
  {
   "cell_type": "code",
   "execution_count": 66,
   "metadata": {},
   "outputs": [],
   "source": [
    "df['distance'] = df[['x', 'y']].sub(np.array(red_center)).pow(2).sum(1).pow(0.5)"
   ]
  },
  {
   "cell_type": "code",
   "execution_count": 67,
   "metadata": {},
   "outputs": [
    {
     "name": "stdout",
     "output_type": "stream",
     "text": [
      "      x    y Colors  distance\n",
      "0   2.6  4.6   Blue  2.064098\n",
      "1   3.7  4.8    Red  0.962549\n",
      "2   2.3  4.3    Red  2.398854\n",
      "3   6.1  4.6   Blue  1.445856\n",
      "4   7.3  2.1    Red  3.726459\n",
      "5   5.0  5.3    Red  0.663702\n",
      "6   9.2  4.7   Blue  4.540099\n",
      "7   7.0  3.4   Blue  2.691561\n",
      "8   2.3  5.8   Blue  2.591235\n",
      "9   6.2  5.2    Red  1.610124\n",
      "10  1.5  5.5    Red  3.252461\n",
      "11  3.4  2.1    Red  2.916248\n",
      "12  0.4  4.2   Blue  4.292843\n",
      "13  6.1  7.8    Red  3.390944\n",
      "14  5.4  6.2   Blue  1.645752\n",
      "15  5.3  5.6   Blue  1.080046\n",
      "16  1.6  2.9   Blue  3.565459\n",
      "17  4.0  7.3    Red  2.653394\n",
      "18  7.1  2.9    Red  3.050000\n",
      "19  8.2  3.2   Blue  3.856488\n"
     ]
    }
   ],
   "source": [
    "print(df)"
   ]
  },
  {
   "cell_type": "code",
   "execution_count": 104,
   "metadata": {},
   "outputs": [],
   "source": [
    "#Task 4"
   ]
  },
  {
   "cell_type": "code",
   "execution_count": null,
   "metadata": {},
   "outputs": [],
   "source": []
  },
  {
   "cell_type": "code",
   "execution_count": null,
   "metadata": {},
   "outputs": [],
   "source": []
  },
  {
   "cell_type": "code",
   "execution_count": null,
   "metadata": {},
   "outputs": [],
   "source": [
    "#This is everything I could do by myself. For the rest I'd need Spiced! :)"
   ]
  },
  {
   "cell_type": "code",
   "execution_count": 108,
   "metadata": {},
   "outputs": [
    {
     "name": "stdout",
     "output_type": "stream",
     "text": [
      "      x    y Colors  distance\n",
      "0   2.6  4.6   Blue  2.064098\n",
      "1   3.7  4.8    Red  0.962549\n",
      "2   2.3  4.3    Red  2.398854\n",
      "3   6.1  4.6   Blue  1.445856\n",
      "4   7.3  2.1    Red  3.726459\n",
      "5   5.0  5.3    Red  0.663702\n",
      "6   9.2  4.7   Blue  4.540099\n",
      "7   7.0  3.4   Blue  2.691561\n",
      "8   2.3  5.8   Blue  2.591235\n",
      "9   6.2  5.2    Red  1.610124\n",
      "10  1.5  5.5    Red  3.252461\n",
      "11  3.4  2.1    Red  2.916248\n",
      "12  0.4  4.2   Blue  4.292843\n",
      "13  6.1  7.8    Red  3.390944\n",
      "14  5.4  6.2   Blue  1.645752\n",
      "15  5.3  5.6   Blue  1.080046\n",
      "16  1.6  2.9   Blue  3.565459\n",
      "17  4.0  7.3    Red  2.653394\n",
      "18  7.1  2.9    Red  3.050000\n",
      "19  8.2  3.2   Blue  3.856488\n"
     ]
    }
   ],
   "source": [
    "print(df)"
   ]
  },
  {
   "cell_type": "code",
   "execution_count": 120,
   "metadata": {},
   "outputs": [],
   "source": [
    "from scipy.spatial import distance"
   ]
  },
  {
   "cell_type": "code",
   "execution_count": 132,
   "metadata": {},
   "outputs": [],
   "source": [
    "import math"
   ]
  },
  {
   "cell_type": "code",
   "execution_count": 147,
   "metadata": {},
   "outputs": [],
   "source": [
    "points = [2.6, 4.6], [3.7, 4.8], [2.3, 4.3], [6.1, 4.6], [7.3, 2.1], [5.0, 5.3], [9.2, 4.7], [7.0, 3.4], [2.3, 5.8], [6.2, 5.2], [1.5, 5.5], [3.4, 2.1], [0.4, 4.2], [6.1, 7.8], [5.4, 6.2], [5.3, 5.6], [1.6, 2.9], [4.0, 7.3], [7.1, 2.9], [8.2, 3.2]"
   ]
  },
  {
   "cell_type": "code",
   "execution_count": 148,
   "metadata": {},
   "outputs": [],
   "source": [
    "dst = distance.euclidean(i in points, blue_center)"
   ]
  },
  {
   "cell_type": "code",
   "execution_count": 150,
   "metadata": {},
   "outputs": [
    {
     "name": "stdout",
     "output_type": "stream",
     "text": [
      "2.211447489767731\n",
      "1.144770719401924\n",
      "2.5196229876709726\n",
      "1.2924782396620842\n",
      "3.4722471110219097\n",
      "0.8028075734570523\n",
      "4.393688655332783\n",
      "2.45977641260339\n",
      "2.817534383108749\n",
      "1.5474172029546531\n",
      "3.4520283892227765\n",
      "2.8008034561532513\n",
      "4.421594734934444\n",
      "3.524556709715422\n",
      "1.7805897899291692\n",
      "1.185959527134042\n",
      "3.5956223383442256\n",
      "2.8956001105124995\n",
      "2.8050846689538624\n",
      "3.637925232876563\n"
     ]
    }
   ],
   "source": [
    "for i in points:\n",
    "    dst = distance.euclidean(i, blue_center)\n",
    "    print(dst)"
   ]
  },
  {
   "cell_type": "code",
   "execution_count": 151,
   "metadata": {},
   "outputs": [
    {
     "name": "stdout",
     "output_type": "stream",
     "text": [
      "2.064097865896867\n",
      "0.9625487000666512\n",
      "2.398853893008076\n",
      "1.4458561477546785\n",
      "3.726459445640056\n",
      "0.6637017402418048\n",
      "4.540099117860754\n",
      "2.691560885434323\n",
      "2.591235226682441\n",
      "1.610124218810462\n",
      "3.2524606069866553\n",
      "2.9162475889402804\n",
      "4.292842880889073\n",
      "3.3909438214160965\n",
      "1.6457521077003068\n",
      "1.0800462953040484\n",
      "3.565459297201414\n",
      "2.653394052906579\n",
      "3.0499999999999994\n",
      "3.856488039654731\n"
     ]
    }
   ],
   "source": [
    "for i in points:\n",
    "    dst = distance.euclidean(i, red_center)\n",
    "    print(dst)"
   ]
  },
  {
   "cell_type": "code",
   "execution_count": null,
   "metadata": {},
   "outputs": [],
   "source": []
  }
 ],
 "metadata": {
  "kernelspec": {
   "display_name": "Python 3",
   "language": "python",
   "name": "python3"
  },
  "language_info": {
   "codemirror_mode": {
    "name": "ipython",
    "version": 3
   },
   "file_extension": ".py",
   "mimetype": "text/x-python",
   "name": "python",
   "nbconvert_exporter": "python",
   "pygments_lexer": "ipython3",
   "version": "3.7.3"
  }
 },
 "nbformat": 4,
 "nbformat_minor": 2
}
